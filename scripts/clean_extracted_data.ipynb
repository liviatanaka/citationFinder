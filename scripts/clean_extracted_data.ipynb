{
 "cells": [
  {
   "cell_type": "code",
   "execution_count": 32,
   "metadata": {},
   "outputs": [],
   "source": [
    "import pandas as pd"
   ]
  },
  {
   "cell_type": "code",
   "execution_count": 33,
   "metadata": {},
   "outputs": [],
   "source": [
    "df_2025 =  pd.read_csv(\"../extracted_data/df_2025.csv\")\n",
    "df_2024 =  pd.read_csv(\"../extracted_data/df_2024.csv\")\n",
    "df_2023 =  pd.read_csv(\"../extracted_data/df_2023.csv\")\n",
    "df_2022 =  pd.read_csv(\"../extracted_data/df_2022.csv\")\n",
    "df_2021 =  pd.read_csv(\"../extracted_data/df_2021.csv\")\n",
    "df_2020 =  pd.read_csv(\"../extracted_data/df_2020.csv\")\n",
    "df_2019 =  pd.read_csv(\"../extracted_data/df_2019.csv\")\n",
    "df_2018 =  pd.read_csv(\"../extracted_data/df_2018.csv\")\n",
    "df_2017 =  pd.read_csv(\"../extracted_data/df_2017.csv\")\n",
    "df_2016 =  pd.read_csv(\"../extracted_data/df_2016.csv\")\n",
    "df_2015 =  pd.read_csv(\"../extracted_data/df_2015.csv\")\n",
    "\n"
   ]
  },
  {
   "cell_type": "code",
   "execution_count": 34,
   "metadata": {},
   "outputs": [],
   "source": [
    "merged_data = pd.concat([df_2025, df_2024, df_2023, df_2022, df_2021, df_2020, df_2019, df_2018, df_2017, df_2016, df_2015])"
   ]
  },
  {
   "cell_type": "code",
   "execution_count": 35,
   "metadata": {},
   "outputs": [
    {
     "data": {
      "text/html": [
       "<div>\n",
       "<style scoped>\n",
       "    .dataframe tbody tr th:only-of-type {\n",
       "        vertical-align: middle;\n",
       "    }\n",
       "\n",
       "    .dataframe tbody tr th {\n",
       "        vertical-align: top;\n",
       "    }\n",
       "\n",
       "    .dataframe thead th {\n",
       "        text-align: right;\n",
       "    }\n",
       "</style>\n",
       "<table border=\"1\" class=\"dataframe\">\n",
       "  <thead>\n",
       "    <tr style=\"text-align: right;\">\n",
       "      <th></th>\n",
       "      <th>title</th>\n",
       "      <th>abstract</th>\n",
       "    </tr>\n",
       "  </thead>\n",
       "  <tbody>\n",
       "    <tr>\n",
       "      <th>0</th>\n",
       "      <td>Evaluation of the Validity of Water Storage Ta...</td>\n",
       "      <td>Water storage tanks are widely used in all bui...</td>\n",
       "    </tr>\n",
       "    <tr>\n",
       "      <th>1</th>\n",
       "      <td>Hydraulic Design Optimization and Performance ...</td>\n",
       "      <td>A piano key weir is a modern modified type of ...</td>\n",
       "    </tr>\n",
       "    <tr>\n",
       "      <th>2</th>\n",
       "      <td>The Evaluation of Mechanical Properties for La...</td>\n",
       "      <td>Multilayer laminated composites are often effe...</td>\n",
       "    </tr>\n",
       "    <tr>\n",
       "      <th>3</th>\n",
       "      <td>Upgrading Bio-Oil Properties from Date Stones ...</td>\n",
       "      <td>This study examined the co-pyrolysis of an equ...</td>\n",
       "    </tr>\n",
       "    <tr>\n",
       "      <th>4</th>\n",
       "      <td>Hydrothermal Liquefaction of Animal By-Product...</td>\n",
       "      <td>Hydrothermal liquefaction (HTL) is an environm...</td>\n",
       "    </tr>\n",
       "  </tbody>\n",
       "</table>\n",
       "</div>"
      ],
      "text/plain": [
       "                                               title  \\\n",
       "0  Evaluation of the Validity of Water Storage Ta...   \n",
       "1  Hydraulic Design Optimization and Performance ...   \n",
       "2  The Evaluation of Mechanical Properties for La...   \n",
       "3  Upgrading Bio-Oil Properties from Date Stones ...   \n",
       "4  Hydrothermal Liquefaction of Animal By-Product...   \n",
       "\n",
       "                                            abstract  \n",
       "0  Water storage tanks are widely used in all bui...  \n",
       "1  A piano key weir is a modern modified type of ...  \n",
       "2  Multilayer laminated composites are often effe...  \n",
       "3  This study examined the co-pyrolysis of an equ...  \n",
       "4  Hydrothermal liquefaction (HTL) is an environm...  "
      ]
     },
     "execution_count": 35,
     "metadata": {},
     "output_type": "execute_result"
    }
   ],
   "source": [
    "merged_data.head()"
   ]
  },
  {
   "cell_type": "code",
   "execution_count": 36,
   "metadata": {},
   "outputs": [],
   "source": [
    "merged_data = merged_data[(merged_data[\"title\"].notna()) & (merged_data[\"abstract\"].notna())]"
   ]
  },
  {
   "cell_type": "code",
   "execution_count": 37,
   "metadata": {},
   "outputs": [
    {
     "data": {
      "text/plain": [
       "(9397, 2)"
      ]
     },
     "execution_count": 37,
     "metadata": {},
     "output_type": "execute_result"
    }
   ],
   "source": [
    "merged_data.shape"
   ]
  },
  {
   "cell_type": "code",
   "execution_count": 38,
   "metadata": {},
   "outputs": [],
   "source": [
    "merged_data.to_csv(\"../extracted_data/publications_data.csv\")"
   ]
  }
 ],
 "metadata": {
  "kernelspec": {
   "display_name": "env",
   "language": "python",
   "name": "python3"
  },
  "language_info": {
   "codemirror_mode": {
    "name": "ipython",
    "version": 3
   },
   "file_extension": ".py",
   "mimetype": "text/x-python",
   "name": "python",
   "nbconvert_exporter": "python",
   "pygments_lexer": "ipython3",
   "version": "3.12.4"
  }
 },
 "nbformat": 4,
 "nbformat_minor": 2
}
