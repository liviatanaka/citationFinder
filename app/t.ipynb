{
 "cells": [
  {
   "cell_type": "code",
   "execution_count": 8,
   "metadata": {},
   "outputs": [],
   "source": [
    "import pandas as pd\n",
    "df = pd.read_csv(f\"../cleaned_data/merged_publications.csv\")"
   ]
  },
  {
   "cell_type": "code",
   "execution_count": 9,
   "metadata": {},
   "outputs": [
    {
     "data": {
      "text/html": [
       "<div>\n",
       "<style scoped>\n",
       "    .dataframe tbody tr th:only-of-type {\n",
       "        vertical-align: middle;\n",
       "    }\n",
       "\n",
       "    .dataframe tbody tr th {\n",
       "        vertical-align: top;\n",
       "    }\n",
       "\n",
       "    .dataframe thead th {\n",
       "        text-align: right;\n",
       "    }\n",
       "</style>\n",
       "<table border=\"1\" class=\"dataframe\">\n",
       "  <thead>\n",
       "    <tr style=\"text-align: right;\">\n",
       "      <th></th>\n",
       "      <th>title</th>\n",
       "      <th>abstract</th>\n",
       "      <th>source</th>\n",
       "    </tr>\n",
       "  </thead>\n",
       "  <tbody>\n",
       "    <tr>\n",
       "      <th>0</th>\n",
       "      <td>Bosonic characters of atomic Cooper pairs acro...</td>\n",
       "      <td>We study the two-particle wave function of p...</td>\n",
       "      <td>arXiv</td>\n",
       "    </tr>\n",
       "    <tr>\n",
       "      <th>1</th>\n",
       "      <td>Measurement of the Hadronic Form Factor in D0 ...</td>\n",
       "      <td>The shape of the hadronic form factor f+(q2)...</td>\n",
       "      <td>arXiv</td>\n",
       "    </tr>\n",
       "    <tr>\n",
       "      <th>2</th>\n",
       "      <td>Spectroscopic Properties of Polarons in Strong...</td>\n",
       "      <td>We present recent advances in understanding ...</td>\n",
       "      <td>arXiv</td>\n",
       "    </tr>\n",
       "    <tr>\n",
       "      <th>3</th>\n",
       "      <td>Tuning correlation effects with electron-phono...</td>\n",
       "      <td>We investigate the effect of tuning the phon...</td>\n",
       "      <td>arXiv</td>\n",
       "    </tr>\n",
       "    <tr>\n",
       "      <th>4</th>\n",
       "      <td>Convergence of the discrete dipole approximati...</td>\n",
       "      <td>We performed a rigorous theoretical converge...</td>\n",
       "      <td>arXiv</td>\n",
       "    </tr>\n",
       "  </tbody>\n",
       "</table>\n",
       "</div>"
      ],
      "text/plain": [
       "                                               title  \\\n",
       "0  Bosonic characters of atomic Cooper pairs acro...   \n",
       "1  Measurement of the Hadronic Form Factor in D0 ...   \n",
       "2  Spectroscopic Properties of Polarons in Strong...   \n",
       "3  Tuning correlation effects with electron-phono...   \n",
       "4  Convergence of the discrete dipole approximati...   \n",
       "\n",
       "                                            abstract source  \n",
       "0    We study the two-particle wave function of p...  arXiv  \n",
       "1    The shape of the hadronic form factor f+(q2)...  arXiv  \n",
       "2    We present recent advances in understanding ...  arXiv  \n",
       "3    We investigate the effect of tuning the phon...  arXiv  \n",
       "4    We performed a rigorous theoretical converge...  arXiv  "
      ]
     },
     "execution_count": 9,
     "metadata": {},
     "output_type": "execute_result"
    }
   ],
   "source": [
    "df.head()"
   ]
  },
  {
   "cell_type": "code",
   "execution_count": null,
   "metadata": {},
   "outputs": [],
   "source": []
  }
 ],
 "metadata": {
  "kernelspec": {
   "display_name": "env",
   "language": "python",
   "name": "python3"
  },
  "language_info": {
   "codemirror_mode": {
    "name": "ipython",
    "version": 3
   },
   "file_extension": ".py",
   "mimetype": "text/x-python",
   "name": "python",
   "nbconvert_exporter": "python",
   "pygments_lexer": "ipython3",
   "version": "3.12.4"
  }
 },
 "nbformat": 4,
 "nbformat_minor": 2
}
